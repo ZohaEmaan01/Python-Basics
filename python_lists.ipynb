{
  "cells": [
    {
      "cell_type": "markdown",
      "metadata": {
        "id": "view-in-github",
        "colab_type": "text"
      },
      "source": [
        "<a href=\"https://colab.research.google.com/github/ZohaEmaan01/Python-Basics/blob/main/python_lists.ipynb\" target=\"_parent\"><img src=\"https://colab.research.google.com/assets/colab-badge.svg\" alt=\"Open In Colab\"/></a>"
      ]
    },
    {
      "cell_type": "markdown",
      "id": "48147901",
      "metadata": {
        "id": "48147901"
      },
      "source": [
        "(List)"
      ]
    },
    {
      "cell_type": "markdown",
      "id": "4a0551ca",
      "metadata": {
        "id": "4a0551ca"
      },
      "source": [
        "Create an empty list and print it.\n"
      ]
    },
    {
      "cell_type": "code",
      "execution_count": null,
      "id": "d2923b71",
      "metadata": {
        "colab": {
          "base_uri": "https://localhost:8080/"
        },
        "id": "d2923b71",
        "outputId": "28659184-b63d-4132-c857-fe7207ab788e"
      },
      "outputs": [
        {
          "output_type": "stream",
          "name": "stdout",
          "text": [
            "[]\n"
          ]
        }
      ],
      "source": [
        "list=[]\n",
        "print(list)"
      ]
    },
    {
      "cell_type": "markdown",
      "id": "fa6b638e",
      "metadata": {
        "id": "fa6b638e"
      },
      "source": [
        "Create a list of your favorite colors and print it.\n"
      ]
    },
    {
      "cell_type": "code",
      "execution_count": null,
      "id": "c549875c",
      "metadata": {
        "colab": {
          "base_uri": "https://localhost:8080/"
        },
        "id": "c549875c",
        "outputId": "62b80b1a-a3a8-47fb-b200-8c8b04176554"
      },
      "outputs": [
        {
          "output_type": "stream",
          "name": "stdout",
          "text": [
            "['purple', 'pink', 'red']\n"
          ]
        }
      ],
      "source": [
        "list=['purple','pink','red']\n",
        "print(list)"
      ]
    },
    {
      "cell_type": "markdown",
      "id": "4a1371d4",
      "metadata": {
        "id": "4a1371d4"
      },
      "source": [
        "Create a list that includes a mix of data types (integers, strings, floats).\n"
      ]
    },
    {
      "cell_type": "code",
      "execution_count": null,
      "id": "dfc878e2",
      "metadata": {
        "colab": {
          "base_uri": "https://localhost:8080/"
        },
        "id": "dfc878e2",
        "outputId": "45d9f50a-c33e-4253-b53e-2e248ee05f93"
      },
      "outputs": [
        {
          "output_type": "stream",
          "name": "stdout",
          "text": [
            "[6, 'apple', 19.45, '64']\n"
          ]
        }
      ],
      "source": [
        "list=[6,'apple',19.45,'64']\n",
        "print(list)"
      ]
    },
    {
      "cell_type": "markdown",
      "id": "2916cde7",
      "metadata": {
        "id": "2916cde7"
      },
      "source": [
        "Access the first element of a list.\n"
      ]
    },
    {
      "cell_type": "code",
      "execution_count": null,
      "id": "a0a7b3d2",
      "metadata": {
        "colab": {
          "base_uri": "https://localhost:8080/"
        },
        "id": "a0a7b3d2",
        "outputId": "39b19db0-101d-4815-9460-35c263a37eab"
      },
      "outputs": [
        {
          "output_type": "stream",
          "name": "stdout",
          "text": [
            "apple\n"
          ]
        }
      ],
      "source": [
        "list=['apple','orange','mango']\n",
        "print(list[0])"
      ]
    },
    {
      "cell_type": "markdown",
      "id": "13b39ea7",
      "metadata": {
        "id": "13b39ea7"
      },
      "source": [
        "Access the last element of a list."
      ]
    },
    {
      "cell_type": "code",
      "execution_count": null,
      "id": "4f8cf5da",
      "metadata": {
        "colab": {
          "base_uri": "https://localhost:8080/"
        },
        "id": "4f8cf5da",
        "outputId": "fa737375-95c0-4441-b86a-8113511d9b39"
      },
      "outputs": [
        {
          "output_type": "stream",
          "name": "stdout",
          "text": [
            "mango\n"
          ]
        }
      ],
      "source": [
        "list=['apple','orange','mango']\n",
        "print(list[-1])"
      ]
    },
    {
      "cell_type": "markdown",
      "id": "ef7e0f8d",
      "metadata": {
        "id": "ef7e0f8d"
      },
      "source": [
        " Access the second and third elements of a list.\n"
      ]
    },
    {
      "cell_type": "code",
      "execution_count": null,
      "id": "e215ceed",
      "metadata": {
        "colab": {
          "base_uri": "https://localhost:8080/"
        },
        "id": "e215ceed",
        "outputId": "45e35ee4-8e05-4006-a409-e29d9b01de59"
      },
      "outputs": [
        {
          "output_type": "stream",
          "name": "stdout",
          "text": [
            "['orange', 'mango']\n"
          ]
        }
      ],
      "source": [
        "list=['apple','orange','mango']\n",
        "print(list[1:3])"
      ]
    },
    {
      "cell_type": "markdown",
      "id": "16ef79f1",
      "metadata": {
        "id": "16ef79f1"
      },
      "source": [
        "\n",
        "Slice a list to extract the first three elements.\n"
      ]
    },
    {
      "cell_type": "code",
      "execution_count": null,
      "id": "86d94d3c",
      "metadata": {
        "colab": {
          "base_uri": "https://localhost:8080/"
        },
        "id": "86d94d3c",
        "outputId": "62766e37-1ce7-4695-fd9e-2c3dc5dae72a"
      },
      "outputs": [
        {
          "output_type": "stream",
          "name": "stdout",
          "text": [
            "['apple', 'orange', 'mango']\n"
          ]
        }
      ],
      "source": [
        "list=['apple','orange','mango','cherry','guava','pear']\n",
        "new_list=list[0:3]\n",
        "print(new_list)"
      ]
    },
    {
      "cell_type": "markdown",
      "id": "717afad5",
      "metadata": {
        "id": "717afad5"
      },
      "source": [
        "Slice a list to extract the last three elements.\n"
      ]
    },
    {
      "cell_type": "code",
      "execution_count": null,
      "id": "2f79b771",
      "metadata": {
        "colab": {
          "base_uri": "https://localhost:8080/"
        },
        "id": "2f79b771",
        "outputId": "c63f74f5-b5c4-484b-f63b-a7781a069713"
      },
      "outputs": [
        {
          "output_type": "stream",
          "name": "stdout",
          "text": [
            "['cherry', 'guava', 'pear']\n"
          ]
        }
      ],
      "source": [
        "list=['apple','orange','mango','cherry','guava','pear']\n",
        "new_list=list[-3:]\n",
        "print(new_list)"
      ]
    },
    {
      "cell_type": "markdown",
      "id": "da7f582e",
      "metadata": {
        "id": "da7f582e"
      },
      "source": [
        "Slice a list to get every second element.\n"
      ]
    },
    {
      "cell_type": "code",
      "execution_count": null,
      "id": "4edeea3d",
      "metadata": {
        "colab": {
          "base_uri": "https://localhost:8080/"
        },
        "id": "4edeea3d",
        "outputId": "30b430cd-6be7-4ec7-efac-aa76f05ecba7"
      },
      "outputs": [
        {
          "output_type": "stream",
          "name": "stdout",
          "text": [
            "['apple', 'mango', 'guava']\n"
          ]
        }
      ],
      "source": [
        "list=['apple','orange','mango','cherry','guava','pear']\n",
        "new_list=list[0::2]\n",
        "print(new_list)"
      ]
    },
    {
      "cell_type": "markdown",
      "id": "011bb9f7",
      "metadata": {
        "id": "011bb9f7"
      },
      "source": [
        "Reverse a list using slicing."
      ]
    },
    {
      "cell_type": "code",
      "execution_count": null,
      "id": "c11e7110",
      "metadata": {
        "colab": {
          "base_uri": "https://localhost:8080/"
        },
        "id": "c11e7110",
        "outputId": "a08ad0d8-f7ca-4cdb-8d06-51e32c4da253"
      },
      "outputs": [
        {
          "output_type": "stream",
          "name": "stdout",
          "text": [
            "['pear', 'guava', 'cherry', 'mango', 'orange', 'apple']\n"
          ]
        }
      ],
      "source": [
        "list=['apple','orange','mango','cherry','guava','pear']\n",
        "print(list[::-1])"
      ]
    },
    {
      "cell_type": "markdown",
      "id": "5f45b7a8",
      "metadata": {
        "id": "5f45b7a8"
      },
      "source": [
        " Create two lists and concatenate them.\n"
      ]
    },
    {
      "cell_type": "code",
      "execution_count": null,
      "id": "2c210b01",
      "metadata": {
        "colab": {
          "base_uri": "https://localhost:8080/"
        },
        "id": "2c210b01",
        "outputId": "a5ce0108-78c7-473d-abc3-ab76c6e4f682"
      },
      "outputs": [
        {
          "output_type": "stream",
          "name": "stdout",
          "text": [
            "['guava', 'peach', 'pear', 'apple', 'kiwi', 'cherry']\n"
          ]
        }
      ],
      "source": [
        "list1=['guava','peach','pear']\n",
        "list2=['apple','kiwi','cherry']\n",
        "print(list1+list2)"
      ]
    },
    {
      "cell_type": "markdown",
      "id": "a6c019d7",
      "metadata": {
        "id": "a6c019d7"
      },
      "source": [
        "\n",
        "Repeat a list multiple times using the repetition operator"
      ]
    },
    {
      "cell_type": "code",
      "execution_count": null,
      "id": "b40d10b9",
      "metadata": {
        "colab": {
          "base_uri": "https://localhost:8080/"
        },
        "id": "b40d10b9",
        "outputId": "a770f0f6-329a-4ed3-c20a-04e5c127c4ae"
      },
      "outputs": [
        {
          "output_type": "stream",
          "name": "stdout",
          "text": [
            "['apple', 'guava', 'orange', 'apple', 'guava', 'orange', 'apple', 'guava', 'orange']\n"
          ]
        }
      ],
      "source": [
        "list_1=['apple','guava','orange']\n",
        "print(list_1*3)\n"
      ]
    },
    {
      "cell_type": "markdown",
      "id": "0fdf9b21",
      "metadata": {
        "id": "0fdf9b21"
      },
      "source": [
        "Add a new element to the end of a list using the append() method.\n"
      ]
    },
    {
      "cell_type": "code",
      "execution_count": null,
      "id": "86906fc9",
      "metadata": {
        "colab": {
          "base_uri": "https://localhost:8080/"
        },
        "id": "86906fc9",
        "outputId": "2b346fcf-3982-4d6d-ed49-ddb2019d7cd6"
      },
      "outputs": [
        {
          "output_type": "stream",
          "name": "stdout",
          "text": [
            "['apple', 'guava', 'orange', 'kiwi']\n"
          ]
        }
      ],
      "source": [
        "list=['apple','guava','orange']\n",
        "list.append('kiwi')\n",
        "print(list)"
      ]
    },
    {
      "cell_type": "markdown",
      "id": "1812e852",
      "metadata": {
        "id": "1812e852"
      },
      "source": [
        "\n",
        "Extend a list with elements from another list using the extend() method.\n"
      ]
    },
    {
      "cell_type": "code",
      "execution_count": null,
      "id": "375a8ac2",
      "metadata": {
        "colab": {
          "base_uri": "https://localhost:8080/"
        },
        "id": "375a8ac2",
        "outputId": "cd8283a3-823a-4ff6-d68b-b7622782618e"
      },
      "outputs": [
        {
          "output_type": "stream",
          "name": "stdout",
          "text": [
            "['guava', 'peach', 'pear', 'apple', 'kiwi', 'cherry']\n"
          ]
        }
      ],
      "source": [
        "list1=['guava','peach','pear']\n",
        "list2=['apple','kiwi','cherry']\n",
        "list1.extend(list2)\n",
        "print(list1)"
      ]
    },
    {
      "cell_type": "markdown",
      "id": "b4285741",
      "metadata": {
        "id": "b4285741"
      },
      "source": [
        "Insert an element at a specific index in a list using the insert() method."
      ]
    },
    {
      "cell_type": "code",
      "execution_count": null,
      "id": "5e5b2a93",
      "metadata": {
        "colab": {
          "base_uri": "https://localhost:8080/"
        },
        "id": "5e5b2a93",
        "outputId": "d4f45257-9407-4ff6-e515-6440b0c1e242"
      },
      "outputs": [
        {
          "output_type": "stream",
          "name": "stdout",
          "text": [
            "['guava', 'kiwi', 'peach', 'pear']\n"
          ]
        }
      ],
      "source": [
        "list1=['guava','peach','pear']\n",
        "list1.insert(1,'kiwi')\n",
        "print(list1)"
      ]
    },
    {
      "cell_type": "markdown",
      "id": "5926ef7b",
      "metadata": {
        "id": "5926ef7b"
      },
      "source": [
        " Remove the last element from a list using the pop() method.\n",
        "\n"
      ]
    },
    {
      "cell_type": "code",
      "execution_count": null,
      "id": "4e3c8c6d",
      "metadata": {
        "colab": {
          "base_uri": "https://localhost:8080/"
        },
        "id": "4e3c8c6d",
        "outputId": "18f83f96-679c-406a-e700-0c92128bcfa4"
      },
      "outputs": [
        {
          "output_type": "stream",
          "name": "stdout",
          "text": [
            "pear\n",
            "['guava', 'peach']\n"
          ]
        }
      ],
      "source": [
        "list1=['guava','peach','pear']\n",
        "print(list1.pop())\n",
        "print(list1)"
      ]
    },
    {
      "cell_type": "markdown",
      "id": "34faaad1",
      "metadata": {
        "id": "34faaad1"
      },
      "source": [
        "Remove a specific element from a list using the remove() method.\n"
      ]
    },
    {
      "cell_type": "code",
      "execution_count": null,
      "id": "2706c63d",
      "metadata": {
        "colab": {
          "base_uri": "https://localhost:8080/"
        },
        "id": "2706c63d",
        "outputId": "7f284825-8b56-4a99-d508-0dea062291ea"
      },
      "outputs": [
        {
          "output_type": "stream",
          "name": "stdout",
          "text": [
            "['guava', 'peach']\n"
          ]
        }
      ],
      "source": [
        "list1=['guava','peach','pear']\n",
        "list1.remove('pear')\n",
        "print(list1)"
      ]
    },
    {
      "cell_type": "markdown",
      "id": "b066a57c",
      "metadata": {
        "id": "b066a57c"
      },
      "source": [
        "Clear all elements from a list.\n"
      ]
    },
    {
      "cell_type": "code",
      "execution_count": null,
      "id": "a4cb30f8",
      "metadata": {
        "colab": {
          "base_uri": "https://localhost:8080/"
        },
        "id": "a4cb30f8",
        "outputId": "5f2dbbbd-5bd1-4935-8eff-1e579b13f624"
      },
      "outputs": [
        {
          "output_type": "stream",
          "name": "stdout",
          "text": [
            "[]\n"
          ]
        }
      ],
      "source": [
        "list1=['guava','peach','pear']\n",
        "list1.clear()\n",
        "print(list1)"
      ]
    },
    {
      "cell_type": "markdown",
      "id": "f9d4754d",
      "metadata": {
        "id": "f9d4754d"
      },
      "source": [
        "Delete an element at a specific index using the del statement."
      ]
    },
    {
      "cell_type": "code",
      "execution_count": null,
      "id": "adbc06c2",
      "metadata": {
        "colab": {
          "base_uri": "https://localhost:8080/"
        },
        "id": "adbc06c2",
        "outputId": "9293e143-2a08-4bb0-9c7e-442184639b87"
      },
      "outputs": [
        {
          "output_type": "stream",
          "name": "stdout",
          "text": [
            "['peach', 'pear']\n"
          ]
        }
      ],
      "source": [
        "list1=['guava','peach','pear']\n",
        "del list1[0]\n",
        "print(list1)"
      ]
    },
    {
      "cell_type": "markdown",
      "id": "6fda5133",
      "metadata": {
        "id": "6fda5133"
      },
      "source": [
        "Convert a string to a list of characters and vice-versa."
      ]
    },
    {
      "cell_type": "code",
      "execution_count": null,
      "id": "7c9fe1dc",
      "metadata": {
        "colab": {
          "base_uri": "https://localhost:8080/"
        },
        "id": "7c9fe1dc",
        "outputId": "32195138-c395-4255-8f92-b6e20f09b18c"
      },
      "outputs": [
        {
          "output_type": "stream",
          "name": "stdout",
          "text": [
            "['I', 'love', 'to', 'shop']\n",
            "I love to shop\n"
          ]
        }
      ],
      "source": [
        "string='I love to shop'\n",
        "list1=string.split(' ')\n",
        "print(list1)\n",
        "\n",
        "string1=' '.join(list1)\n",
        "print(string1)"
      ]
    },
    {
      "cell_type": "markdown",
      "source": [
        "Sort a list in ascending order using the sort() method."
      ],
      "metadata": {
        "id": "yMySlYnWZUwK"
      },
      "id": "yMySlYnWZUwK"
    },
    {
      "cell_type": "code",
      "execution_count": null,
      "id": "749b040c",
      "metadata": {
        "colab": {
          "base_uri": "https://localhost:8080/"
        },
        "id": "749b040c",
        "outputId": "87936611-1422-455c-a15e-47869e2a1b0f"
      },
      "outputs": [
        {
          "output_type": "stream",
          "name": "stdout",
          "text": [
            "['guava', 'mango', 'peach']\n"
          ]
        }
      ],
      "source": [
        "list1=['guava','peach','mango']\n",
        "list1.sort()\n",
        "print(list1)"
      ]
    },
    {
      "cell_type": "code",
      "execution_count": null,
      "id": "8a1c1820",
      "metadata": {
        "id": "8a1c1820"
      },
      "outputs": [],
      "source": [
        "\n",
        "Sort a list in descending order using the sort() method.\n"
      ]
    },
    {
      "cell_type": "code",
      "execution_count": null,
      "id": "9d3b86b3",
      "metadata": {
        "colab": {
          "base_uri": "https://localhost:8080/"
        },
        "id": "9d3b86b3",
        "outputId": "4d8c87fa-73fc-47cb-d845-08c845da5ef3"
      },
      "outputs": [
        {
          "output_type": "stream",
          "name": "stdout",
          "text": [
            "[9, 6, 5, 5, 5, 4, 3, 3, 2, 1, 1]\n"
          ]
        }
      ],
      "source": [
        "list=[3, 1, 4, 1, 5, 9, 2, 6, 5, 3, 5]\n",
        "list.sort(reverse=True)\n",
        "print(list)"
      ]
    },
    {
      "cell_type": "markdown",
      "id": "04c5419a",
      "metadata": {
        "id": "04c5419a"
      },
      "source": [
        "Reverse the order of a list using the reverse() method.\n"
      ]
    },
    {
      "cell_type": "code",
      "execution_count": null,
      "id": "f0eac28f",
      "metadata": {
        "colab": {
          "base_uri": "https://localhost:8080/"
        },
        "id": "f0eac28f",
        "outputId": "03ce2b76-2639-460d-eda7-37e351b5b066"
      },
      "outputs": [
        {
          "output_type": "stream",
          "name": "stdout",
          "text": [
            "[5, 3, 5, 6, 2, 9, 5, 1, 4, 1, 3]\n"
          ]
        }
      ],
      "source": [
        "list = [3, 1, 4, 1, 5, 9, 2, 6, 5, 3, 5]\n",
        "list.reverse()\n",
        "print(list)"
      ]
    },
    {
      "cell_type": "markdown",
      "id": "ea816319",
      "metadata": {
        "id": "ea816319"
      },
      "source": [
        "Check if an element is present in a list using the in operator.\n"
      ]
    },
    {
      "cell_type": "code",
      "execution_count": null,
      "id": "db2e8041",
      "metadata": {
        "colab": {
          "base_uri": "https://localhost:8080/"
        },
        "id": "db2e8041",
        "outputId": "94642c2b-5218-437e-ce03-5c2da9e55a9e"
      },
      "outputs": [
        {
          "output_type": "stream",
          "name": "stdout",
          "text": [
            "True\n"
          ]
        }
      ],
      "source": [
        "list=['apple','mango','kiwi']\n",
        "check= 'apple'in list\n",
        "print(check)"
      ]
    },
    {
      "cell_type": "markdown",
      "id": "f17e9e0a",
      "metadata": {
        "id": "f17e9e0a"
      },
      "source": [
        "Compare two lists to see if they are equal in both value and identity.\n"
      ]
    },
    {
      "cell_type": "code",
      "execution_count": null,
      "id": "cc5763b1",
      "metadata": {
        "colab": {
          "base_uri": "https://localhost:8080/"
        },
        "id": "cc5763b1",
        "outputId": "22d8603c-2baa-4521-8b21-6c7e8acc40ca"
      },
      "outputs": [
        {
          "output_type": "execute_result",
          "data": {
            "text/plain": [
              "False"
            ]
          },
          "metadata": {},
          "execution_count": 5
        }
      ],
      "source": [
        "list1 = [1, 2, 3]\n",
        "list2 = [1, 2, 3]\n",
        "list2 is list1"
      ]
    },
    {
      "cell_type": "markdown",
      "id": "19d815f3",
      "metadata": {
        "id": "19d815f3"
      },
      "source": [
        "Create a shallow copy of a list and modify one of the lists to observe the effects on the other.\n"
      ]
    },
    {
      "cell_type": "code",
      "execution_count": null,
      "id": "92979606",
      "metadata": {
        "colab": {
          "base_uri": "https://localhost:8080/"
        },
        "id": "92979606",
        "outputId": "f62155cb-9b70-4bbe-f760-258f6ccd4c04"
      },
      "outputs": [
        {
          "output_type": "stream",
          "name": "stdout",
          "text": [
            "[100, 2, 3, 4, 5]\n",
            "[1, 2, 3, 4, 5]\n"
          ]
        }
      ],
      "source": [
        "list=[1, 2, 3, 4, 5]\n",
        "copy = list.copy()\n",
        "list[0] = 100\n",
        "print(list)\n",
        "print(copy)"
      ]
    },
    {
      "cell_type": "markdown",
      "id": "6c8f1702",
      "metadata": {
        "id": "6c8f1702"
      },
      "source": [
        "Create a deep copy of a nested list and modify one of the lists to observe the effects on the other."
      ]
    },
    {
      "cell_type": "code",
      "execution_count": null,
      "id": "87a8af6d",
      "metadata": {
        "id": "87a8af6d",
        "colab": {
          "base_uri": "https://localhost:8080/"
        },
        "outputId": "080f45d8-d41f-47e7-a34a-fe8b1dd6bf5d"
      },
      "outputs": [
        {
          "output_type": "stream",
          "name": "stdout",
          "text": [
            "[[100, 2, 3], [4, 5, 6], [7, 8, 9]]\n",
            "[[1, 2, 3], [4, 5, 6], [7, 8, 9]]\n",
            "[[100, 2, 3], [4, 5, 6], [7, 8, 9]]\n"
          ]
        }
      ],
      "source": [
        "import copy\n",
        "list = [[1, 2, 3], [4, 5, 6], [7, 8, 9]]\n",
        "copy = copy.deepcopy(list)\n",
        "copy1= list.copy()\n",
        "list[0][0] = 100\n",
        "print(list)\n",
        "print(copy)\n",
        "print(copy1)"
      ]
    },
    {
      "cell_type": "markdown",
      "id": "c52154a0",
      "metadata": {
        "id": "c52154a0"
      },
      "source": [
        "Pickle and Unpickle a list and display its content."
      ]
    },
    {
      "cell_type": "code",
      "execution_count": null,
      "id": "2c97aff5",
      "metadata": {
        "id": "2c97aff5",
        "colab": {
          "base_uri": "https://localhost:8080/"
        },
        "outputId": "ea88f6c7-5865-4942-f5d6-df752f56b9ee"
      },
      "outputs": [
        {
          "output_type": "stream",
          "name": "stdout",
          "text": [
            "Original List: [1, 2, [99, 4]]\n",
            "Shallow Copied List: [1, 2, [99, 4]]\n",
            "Deep Copied List: [1, 2, [3, 4]]\n"
          ]
        }
      ],
      "source": [
        "import copy\n",
        "\n",
        "# Original list\n",
        "original_list = [1, 2, [3, 4]]\n",
        "\n",
        "# Shallow copy\n",
        "shallow_copied_list = copy.copy(original_list)\n",
        "\n",
        "# Deep copy\n",
        "deep_copied_list = copy.deepcopy(original_list)\n",
        "\n",
        "# Modify the original list to demonstrate the difference\n",
        "original_list[2][0] = 99\n",
        "\n",
        "print(\"Original List:\", original_list)\n",
        "print(\"Shallow Copied List:\", shallow_copied_list)\n",
        "print(\"Deep Copied List:\", deep_copied_list)\n"
      ]
    },
    {
      "cell_type": "code",
      "execution_count": null,
      "id": "9415e114",
      "metadata": {
        "id": "9415e114",
        "colab": {
          "base_uri": "https://localhost:8080/"
        },
        "outputId": "f8c12fbe-bcaf-4dfa-8658-f5d4de1c036d"
      },
      "outputs": [
        {
          "output_type": "stream",
          "name": "stdout",
          "text": [
            "Original List: [1, 2, 3, 4, 5, 6]\n",
            "Shallow Copied List: [1, 2, 3, 4, 5]\n",
            "Deep Copied List: [1, 2, 3, 4, 5, 6]\n"
          ]
        }
      ],
      "source": [
        "import copy\n",
        "\n",
        "# Original list\n",
        "original_list = [1, 2, 3, 4, 5]\n",
        "\n",
        "# Shallow copy\n",
        "shallow_copied_list=copy.copy(original_list)\n",
        "# Deep copy\n",
        "deep_copied_list = copy.deepcopy(original_list)\n",
        "\n",
        "# Modify the original list\n",
        "original_list.append(6)\n",
        "\n",
        "print(\"Original List:\", original_list)\n",
        "print(\"Shallow Copied List:\", shallow_copied_list)\n",
        "print(\"Deep Copied List:\", deep_copied_list)\n"
      ]
    }
  ],
  "metadata": {
    "kernelspec": {
      "display_name": "Python 3 (ipykernel)",
      "language": "python",
      "name": "python3"
    },
    "language_info": {
      "codemirror_mode": {
        "name": "ipython",
        "version": 3
      },
      "file_extension": ".py",
      "mimetype": "text/x-python",
      "name": "python",
      "nbconvert_exporter": "python",
      "pygments_lexer": "ipython3",
      "version": "3.10.13"
    },
    "colab": {
      "provenance": [],
      "include_colab_link": true
    }
  },
  "nbformat": 4,
  "nbformat_minor": 5
}