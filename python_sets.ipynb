{
  "cells": [
    {
      "cell_type": "markdown",
      "metadata": {
        "id": "view-in-github",
        "colab_type": "text"
      },
      "source": [
        "<a href=\"https://colab.research.google.com/github/ZohaEmaan01/Python-Basics/blob/main/python_sets.ipynb\" target=\"_parent\"><img src=\"https://colab.research.google.com/assets/colab-badge.svg\" alt=\"Open In Colab\"/></a>"
      ]
    },
    {
      "cell_type": "markdown",
      "id": "a97576a6",
      "metadata": {
        "id": "a97576a6"
      },
      "source": [
        "(SETS)"
      ]
    },
    {
      "cell_type": "markdown",
      "id": "d1ddf3da",
      "metadata": {
        "id": "d1ddf3da"
      },
      "source": [
        "    Create an empty set and print it.\n",
        "  "
      ]
    },
    {
      "cell_type": "code",
      "execution_count": null,
      "id": "c9e9db1e",
      "metadata": {
        "colab": {
          "base_uri": "https://localhost:8080/"
        },
        "id": "c9e9db1e",
        "outputId": "73b9bc69-35a3-4de6-98fa-34c340bfb6c3"
      },
      "outputs": [
        {
          "output_type": "stream",
          "name": "stdout",
          "text": [
            "{'a', 'b', 'd', 'c', 'e'}\n"
          ]
        }
      ],
      "source": [
        "s={'a','b','c','d','e'}\n",
        "s=set({'a','b','c','d','e'})\n",
        "print(s)"
      ]
    },
    {
      "cell_type": "markdown",
      "id": "eeb8fb4d",
      "metadata": {
        "id": "eeb8fb4d"
      },
      "source": [
        "  Create a set of your favorite colors and print it.\n"
      ]
    },
    {
      "cell_type": "code",
      "execution_count": null,
      "id": "d8867e41",
      "metadata": {
        "colab": {
          "base_uri": "https://localhost:8080/"
        },
        "id": "d8867e41",
        "outputId": "cf575d53-aa09-4ec0-8685-3b0b2598ffcd"
      },
      "outputs": [
        {
          "output_type": "stream",
          "name": "stdout",
          "text": [
            "{'pink', 'purple', 'red'}\n"
          ]
        }
      ],
      "source": [
        "s={'red','purple','pink'}\n",
        "s=set({'red','purple','pink'})\n",
        "print(s)"
      ]
    },
    {
      "cell_type": "markdown",
      "id": "5e724df6",
      "metadata": {
        "id": "5e724df6"
      },
      "source": [
        "    Create a set that includes a mix of data types (integers, strings, floats)."
      ]
    },
    {
      "cell_type": "code",
      "execution_count": null,
      "id": "e496901a",
      "metadata": {
        "colab": {
          "base_uri": "https://localhost:8080/"
        },
        "id": "e496901a",
        "outputId": "5777b006-ecfd-472b-8a58-da3ac7501725"
      },
      "outputs": [
        {
          "output_type": "stream",
          "name": "stdout",
          "text": [
            "{10.98, 12, '30', 'name'}\n"
          ]
        }
      ],
      "source": [
        "s={'name',12,10.98,'30'}\n",
        "s=set({'name',12,10.98,'30'})\n",
        "print(s)"
      ]
    },
    {
      "cell_type": "markdown",
      "id": "d2b80125",
      "metadata": {
        "id": "d2b80125"
      },
      "source": [
        "Access the elements of a set using a loop and print each element."
      ]
    },
    {
      "cell_type": "code",
      "execution_count": null,
      "id": "3ceec096",
      "metadata": {
        "colab": {
          "base_uri": "https://localhost:8080/"
        },
        "id": "3ceec096",
        "outputId": "54fc3332-dc0f-431b-fece-abea6aaa0444"
      },
      "outputs": [
        {
          "output_type": "stream",
          "name": "stdout",
          "text": [
            "10.98\n",
            "12\n",
            "30\n",
            "name\n"
          ]
        }
      ],
      "source": [
        "s={'name',12,10.98,'30'}\n",
        "s=set({'name',12,10.98,'30'})\n",
        "for i in s:\n",
        "  print(i)\n"
      ]
    },
    {
      "cell_type": "markdown",
      "id": "08fdccf7",
      "metadata": {
        "id": "08fdccf7"
      },
      "source": [
        "add a new element to a set using the add() method."
      ]
    },
    {
      "cell_type": "code",
      "execution_count": null,
      "id": "5d5273f9",
      "metadata": {
        "colab": {
          "base_uri": "https://localhost:8080/"
        },
        "id": "5d5273f9",
        "outputId": "c64e7564-ee1b-4f0e-f8ef-73c7c0912259"
      },
      "outputs": [
        {
          "output_type": "stream",
          "name": "stdout",
          "text": [
            "{'30', 'name', 10.98, 12, 'girl'}\n"
          ]
        }
      ],
      "source": [
        "s={'name',12,10.98,'30'}\n",
        "s=set({'name',12,10.98,'30'})\n",
        "s.add('girl')\n",
        "print(s)"
      ]
    },
    {
      "cell_type": "markdown",
      "id": "c8257b4c",
      "metadata": {
        "id": "c8257b4c"
      },
      "source": [
        "Add multiple elements to a set using the update() method."
      ]
    },
    {
      "cell_type": "code",
      "execution_count": null,
      "id": "d3fe8634",
      "metadata": {
        "colab": {
          "base_uri": "https://localhost:8080/"
        },
        "id": "d3fe8634",
        "outputId": "b881faf2-eb9b-489b-9775-5e63f2fb85a0"
      },
      "outputs": [
        {
          "output_type": "stream",
          "name": "stdout",
          "text": [
            "{'30', 'name', 10.98, 12, 'girl', 20}\n"
          ]
        }
      ],
      "source": [
        "s={'name',12,10.98,'30'}\n",
        "s=set({'name',12,10.98,'30'})\n",
        "s.update(['girl',20])\n",
        "print(s)"
      ]
    },
    {
      "cell_type": "markdown",
      "id": "e8adbe50",
      "metadata": {
        "id": "e8adbe50"
      },
      "source": [
        "Remove and return an arbitrary element from a set using the pop() method."
      ]
    },
    {
      "cell_type": "code",
      "execution_count": null,
      "id": "bfdcad15",
      "metadata": {
        "colab": {
          "base_uri": "https://localhost:8080/"
        },
        "id": "bfdcad15",
        "outputId": "86a7b836-19dc-4568-a815-8dd9c80ce262"
      },
      "outputs": [
        {
          "output_type": "execute_result",
          "data": {
            "text/plain": [
              "10.98"
            ]
          },
          "metadata": {},
          "execution_count": 22
        }
      ],
      "source": [
        "s={'name',12,10.98,'30'}\n",
        "s=set({'name',12,10.98,'30'})\n",
        "s.pop()"
      ]
    },
    {
      "cell_type": "markdown",
      "id": "6bacfc71",
      "metadata": {
        "id": "6bacfc71"
      },
      "source": [
        "Remove a specific element from a set using the remove() method."
      ]
    },
    {
      "cell_type": "code",
      "execution_count": null,
      "id": "d7d4d697",
      "metadata": {
        "colab": {
          "base_uri": "https://localhost:8080/"
        },
        "id": "d7d4d697",
        "outputId": "759b5c07-072f-438c-e455-fce88097d25b"
      },
      "outputs": [
        {
          "output_type": "stream",
          "name": "stdout",
          "text": [
            "{10.98, 12, '30'}\n"
          ]
        }
      ],
      "source": [
        "s={'name',12,10.98,'30'}\n",
        "s=set({'name',12,10.98,'30'})\n",
        "s.remove('name')\n",
        "print(s)"
      ]
    },
    {
      "cell_type": "markdown",
      "id": "1844da3c",
      "metadata": {
        "id": "1844da3c"
      },
      "source": [
        "Remove a specific element from a set using the discard() method."
      ]
    },
    {
      "cell_type": "code",
      "execution_count": null,
      "id": "36164bf7",
      "metadata": {
        "colab": {
          "base_uri": "https://localhost:8080/"
        },
        "id": "36164bf7",
        "outputId": "86c4bbb5-027f-45d2-dea1-749744cba213"
      },
      "outputs": [
        {
          "output_type": "stream",
          "name": "stdout",
          "text": [
            "{12, '30', 'name'}\n"
          ]
        }
      ],
      "source": [
        "s={'name',12,10.98,'30'}\n",
        "s=set({'name',12,10.98,'30'})\n",
        "s.discard(10.98)\n",
        "print(s)"
      ]
    },
    {
      "cell_type": "markdown",
      "id": "8bd3aadb",
      "metadata": {
        "id": "8bd3aadb"
      },
      "source": [
        "Convert a string to a set of unique characters."
      ]
    },
    {
      "cell_type": "code",
      "execution_count": null,
      "id": "5d135ac7",
      "metadata": {
        "colab": {
          "base_uri": "https://localhost:8080/"
        },
        "id": "5d135ac7",
        "outputId": "92020199-abfb-4d7f-b2df-e079074aaba0"
      },
      "outputs": [
        {
          "output_type": "stream",
          "name": "stdout",
          "text": [
            "{' ', 'o', 'l', 'a', 'n', 'r', 'i', 'k', 't', 'e'}\n"
          ]
        }
      ],
      "source": [
        "string='i like to learn'\n",
        "s=set(string)\n",
        "print(s)"
      ]
    },
    {
      "cell_type": "markdown",
      "id": "6c622821",
      "metadata": {
        "id": "6c622821"
      },
      "source": [
        "Convert a set of characters to a string."
      ]
    },
    {
      "cell_type": "code",
      "execution_count": null,
      "id": "fb3156ac",
      "metadata": {
        "id": "fb3156ac"
      },
      "outputs": [],
      "source": [
        "#gives error as str object is not callable\n",
        "s={'name',12,10.98,'30'}\n",
        "s=set({'name',12,10.98,'30'})\n",
        "string=str(s)"
      ]
    },
    {
      "cell_type": "markdown",
      "id": "9a426c8f",
      "metadata": {
        "id": "9a426c8f"
      },
      "source": [
        "Use the clear() method to remove all elements from a set."
      ]
    },
    {
      "cell_type": "code",
      "execution_count": null,
      "id": "88a65643",
      "metadata": {
        "colab": {
          "base_uri": "https://localhost:8080/"
        },
        "id": "88a65643",
        "outputId": "55d762b2-f9fd-4396-b2b7-955751da3328"
      },
      "outputs": [
        {
          "output_type": "stream",
          "name": "stdout",
          "text": [
            "set()\n"
          ]
        }
      ],
      "source": [
        "s={'name',12,10.98,'30'}\n",
        "s=set({'name',12,10.98,'30'})\n",
        "s.clear()\n",
        "print(s)"
      ]
    },
    {
      "cell_type": "markdown",
      "id": "9edea94d",
      "metadata": {
        "id": "9edea94d"
      },
      "source": [
        "Use the copy() method to create a shallow copy of a set."
      ]
    },
    {
      "cell_type": "code",
      "execution_count": null,
      "id": "eb4e0b56",
      "metadata": {
        "colab": {
          "base_uri": "https://localhost:8080/"
        },
        "id": "eb4e0b56",
        "outputId": "a6b94ddc-a78b-4f74-9488-636b8ba12e75"
      },
      "outputs": [
        {
          "output_type": "stream",
          "name": "stdout",
          "text": [
            "{10.98, 12, '30', 'name'}\n",
            "{10.98, 12, '30', 'name'}\n"
          ]
        }
      ],
      "source": [
        "s={'name',12,10.98,'30'}\n",
        "s=set({'name',12,10.98,'30'})\n",
        "copy1=s.copy()\n",
        "print(s)\n",
        "print(copy1)"
      ]
    },
    {
      "cell_type": "markdown",
      "id": "cd9c69f0",
      "metadata": {
        "id": "cd9c69f0"
      },
      "source": [
        "Use the difference() method to find the difference between two sets."
      ]
    },
    {
      "cell_type": "code",
      "execution_count": null,
      "id": "2f816d0f",
      "metadata": {
        "colab": {
          "base_uri": "https://localhost:8080/"
        },
        "id": "2f816d0f",
        "outputId": "7c8893a2-6544-4473-faaa-0273c35fc669"
      },
      "outputs": [
        {
          "output_type": "execute_result",
          "data": {
            "text/plain": [
              "{10.98, 12, '30'}"
            ]
          },
          "metadata": {},
          "execution_count": 46
        }
      ],
      "source": [
        "s1={'name',12,10.98,'30'}\n",
        "s1=set({'name',12,10.98,'30'})\n",
        "s2={'girl',10,'50',199.68,'name'}\n",
        "s2=set({'girl',10,'50',199.68,'name'})\n",
        "s1.difference(s2)"
      ]
    },
    {
      "cell_type": "markdown",
      "id": "307c3f1a",
      "metadata": {
        "id": "307c3f1a"
      },
      "source": [
        "Create two sets and find their union."
      ]
    },
    {
      "cell_type": "code",
      "execution_count": null,
      "id": "fac5a114",
      "metadata": {
        "colab": {
          "base_uri": "https://localhost:8080/"
        },
        "id": "fac5a114",
        "outputId": "f0ff8075-a048-49c3-ba2e-cff54b8f0b59"
      },
      "outputs": [
        {
          "output_type": "execute_result",
          "data": {
            "text/plain": [
              "{10, 10.98, 12, 199.68, '30', '50', 'girl', 'name'}"
            ]
          },
          "metadata": {},
          "execution_count": 47
        }
      ],
      "source": [
        "s1={'name',12,10.98,'30'}\n",
        "s1=set({'name',12,10.98,'30'})\n",
        "s2={'girl',10,'50',199.68,'name'}\n",
        "s2=set({'girl',10,'50',199.68,'name'})\n",
        "s1.union(s2)"
      ]
    },
    {
      "cell_type": "markdown",
      "id": "eaf6ba0c",
      "metadata": {
        "id": "eaf6ba0c"
      },
      "source": [
        "    Create two sets and find their intersection.\n",
        "   "
      ]
    },
    {
      "cell_type": "code",
      "execution_count": null,
      "id": "1169662c",
      "metadata": {
        "colab": {
          "base_uri": "https://localhost:8080/"
        },
        "id": "1169662c",
        "outputId": "930138f7-97a8-4086-ca89-5e1377f151c2"
      },
      "outputs": [
        {
          "output_type": "execute_result",
          "data": {
            "text/plain": [
              "{'50', 'name'}"
            ]
          },
          "metadata": {},
          "execution_count": 50
        }
      ],
      "source": [
        "s1={'name',12,10.98,'30','50'}\n",
        "s1=set({'name',12,10.98,'30','50'})\n",
        "s2={'girl',10,'50',199.68,'name'}\n",
        "s2=set({'girl',10,'50',199.68,'name'})\n",
        "s1.intersection(s2)"
      ]
    },
    {
      "cell_type": "markdown",
      "id": "859e1d7f",
      "metadata": {
        "id": "859e1d7f"
      },
      "source": [
        " Create two sets and find their difference.\n"
      ]
    },
    {
      "cell_type": "code",
      "execution_count": null,
      "id": "681f05e6",
      "metadata": {
        "colab": {
          "base_uri": "https://localhost:8080/"
        },
        "id": "681f05e6",
        "outputId": "0dacb6db-2529-4d72-c5ec-d00509145a13"
      },
      "outputs": [
        {
          "output_type": "stream",
          "name": "stdout",
          "text": [
            "{10.98, 12, '30'}\n",
            "{'girl', 10, 199.68}\n"
          ]
        }
      ],
      "source": [
        "s1={'name',12,10.98,'30','50'}\n",
        "s1=set({'name',12,10.98,'30','50'})\n",
        "s2={'girl',10,'50',199.68,'name'}\n",
        "s2=set({'girl',10,'50',199.68,'name'})\n",
        "s3=s1-s2\n",
        "s4=s2-s1\n",
        "print(s3)\n",
        "print(s4)"
      ]
    },
    {
      "cell_type": "markdown",
      "id": "b1c839f5",
      "metadata": {
        "id": "b1c839f5"
      },
      "source": [
        "    Create two sets and find their symmetric difference."
      ]
    },
    {
      "cell_type": "code",
      "execution_count": null,
      "id": "c2695bb7",
      "metadata": {
        "colab": {
          "base_uri": "https://localhost:8080/"
        },
        "id": "c2695bb7",
        "outputId": "bee12bb1-4320-4338-f1b5-a52f7c7292b1"
      },
      "outputs": [
        {
          "output_type": "execute_result",
          "data": {
            "text/plain": [
              "{10, 10.98, 12, 199.68, '30', 'girl'}"
            ]
          },
          "metadata": {},
          "execution_count": 55
        }
      ],
      "source": [
        "s1={'name',12,10.98,'30','50'}\n",
        "s1=set({'name',12,10.98,'30','50'})\n",
        "s2={'girl',10,'50',199.68,'name'}\n",
        "s2=set({'girl',10,'50',199.68,'name'})\n",
        "s1.symmetric_difference(s2)"
      ]
    },
    {
      "cell_type": "markdown",
      "id": "41933917",
      "metadata": {
        "id": "41933917"
      },
      "source": [
        "Check if one set is a subset of another."
      ]
    },
    {
      "cell_type": "code",
      "execution_count": null,
      "id": "fc3d1fd0",
      "metadata": {
        "colab": {
          "base_uri": "https://localhost:8080/"
        },
        "id": "fc3d1fd0",
        "outputId": "fcff13ed-5cd0-449a-dbf5-0cab65cf73a0"
      },
      "outputs": [
        {
          "output_type": "execute_result",
          "data": {
            "text/plain": [
              "True"
            ]
          },
          "metadata": {},
          "execution_count": 59
        }
      ],
      "source": [
        "s1={'name',12,10.98,'30','50'}\n",
        "s1=set({'name',12,10.98,'30','50'})\n",
        "s2={(12,'name')}\n",
        "s2=set({12,'name'})\n",
        "s2.issubset(s1)"
      ]
    },
    {
      "cell_type": "markdown",
      "id": "65174e5c",
      "metadata": {
        "id": "65174e5c"
      },
      "source": [
        "    Check if one set is a superset of another.\n"
      ]
    },
    {
      "cell_type": "code",
      "execution_count": null,
      "id": "cc34dbf9",
      "metadata": {
        "colab": {
          "base_uri": "https://localhost:8080/"
        },
        "id": "cc34dbf9",
        "outputId": "73d69f40-544e-4df6-fb0d-61117dedc76a"
      },
      "outputs": [
        {
          "output_type": "execute_result",
          "data": {
            "text/plain": [
              "True"
            ]
          },
          "metadata": {},
          "execution_count": 63
        }
      ],
      "source": [
        "s1={'name',12,10.98,'30','50'}\n",
        "s1=set({'name',12,10.98,'30','50'})\n",
        "s2={(12,'name')}\n",
        "s2=set({12,'name'})\n",
        "s1.issuperset(s2)"
      ]
    },
    {
      "cell_type": "markdown",
      "id": "e8b05467",
      "metadata": {
        "id": "e8b05467"
      },
      "source": [
        "    Check if two sets are disjoint (have no common elements)."
      ]
    },
    {
      "cell_type": "code",
      "execution_count": null,
      "id": "f5e84a48",
      "metadata": {
        "colab": {
          "base_uri": "https://localhost:8080/"
        },
        "id": "f5e84a48",
        "outputId": "aefc9144-c5f5-4f8a-e648-d162a6613c85"
      },
      "outputs": [
        {
          "output_type": "execute_result",
          "data": {
            "text/plain": [
              "True"
            ]
          },
          "metadata": {},
          "execution_count": 65
        }
      ],
      "source": [
        "s1={'name',12,10.98,'30','50'}\n",
        "s1=set({'name',12,10.98,'30','50'})\n",
        "s2={'girl',1000,'60','address',10.57}\n",
        "s2=set({'girl',1000,'60','address',10.57})\n",
        "s1.isdisjoint(s2)"
      ]
    }
  ],
  "metadata": {
    "kernelspec": {
      "display_name": "Python 3 (ipykernel)",
      "language": "python",
      "name": "python3"
    },
    "language_info": {
      "codemirror_mode": {
        "name": "ipython",
        "version": 3
      },
      "file_extension": ".py",
      "mimetype": "text/x-python",
      "name": "python",
      "nbconvert_exporter": "python",
      "pygments_lexer": "ipython3",
      "version": "3.9.12"
    },
    "colab": {
      "provenance": [],
      "include_colab_link": true
    }
  },
  "nbformat": 4,
  "nbformat_minor": 5
}