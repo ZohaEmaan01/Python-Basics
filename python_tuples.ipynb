{
  "cells": [
    {
      "cell_type": "markdown",
      "metadata": {
        "id": "view-in-github",
        "colab_type": "text"
      },
      "source": [
        "<a href=\"https://colab.research.google.com/github/ZohaEmaan01/Python-Basics/blob/main/python_tuples.ipynb\" target=\"_parent\"><img src=\"https://colab.research.google.com/assets/colab-badge.svg\" alt=\"Open In Colab\"/></a>"
      ]
    },
    {
      "cell_type": "markdown",
      "id": "1488806a",
      "metadata": {
        "id": "1488806a"
      },
      "source": [
        "(Tuple)"
      ]
    },
    {
      "cell_type": "markdown",
      "id": "0f49daa5",
      "metadata": {
        "id": "0f49daa5"
      },
      "source": [
        "    Create an empty tuple and print it.\n",
        "        "
      ]
    },
    {
      "cell_type": "code",
      "execution_count": null,
      "id": "9f34fb22",
      "metadata": {
        "colab": {
          "base_uri": "https://localhost:8080/"
        },
        "id": "9f34fb22",
        "outputId": "ac60f84b-7f3b-468c-c71a-e90ad4c85cd3"
      },
      "outputs": [
        {
          "output_type": "stream",
          "name": "stdout",
          "text": [
            "()\n"
          ]
        },
        {
          "output_type": "execute_result",
          "data": {
            "text/plain": [
              "tuple"
            ]
          },
          "metadata": {},
          "execution_count": 3
        }
      ],
      "source": [
        "t=()\n",
        "print(t)\n",
        "type(t)"
      ]
    },
    {
      "cell_type": "markdown",
      "id": "e043fa87",
      "metadata": {
        "id": "e043fa87"
      },
      "source": [
        "    Create a tuple of your favorite fruits and print it.\n"
      ]
    },
    {
      "cell_type": "code",
      "execution_count": null,
      "id": "a8075e3e",
      "metadata": {
        "colab": {
          "base_uri": "https://localhost:8080/"
        },
        "id": "a8075e3e",
        "outputId": "0b99db26-75ab-49aa-f972-05bc720a3e37"
      },
      "outputs": [
        {
          "output_type": "stream",
          "name": "stdout",
          "text": [
            "('lychee', 'apricot', 'strawberry')\n"
          ]
        }
      ],
      "source": [
        "t=('lychee','apricot','strawberry')\n",
        "print(t)"
      ]
    },
    {
      "cell_type": "markdown",
      "id": "63103aae",
      "metadata": {
        "id": "63103aae"
      },
      "source": [
        "    Create a tuple that includes a mix of data types (integers, strings, floats).\n",
        "  "
      ]
    },
    {
      "cell_type": "code",
      "execution_count": null,
      "id": "02d21498",
      "metadata": {
        "colab": {
          "base_uri": "https://localhost:8080/"
        },
        "id": "02d21498",
        "outputId": "a8d5cd29-08cc-4816-a3c0-16e801281df3"
      },
      "outputs": [
        {
          "output_type": "stream",
          "name": "stdout",
          "text": [
            "('name', 10, '36', 129.39)\n"
          ]
        }
      ],
      "source": [
        "t=('name',10,'36',129.39)\n",
        "print(t)"
      ]
    },
    {
      "cell_type": "markdown",
      "id": "704e22bb",
      "metadata": {
        "id": "704e22bb"
      },
      "source": [
        "  Access the first element of a tuple.\n"
      ]
    },
    {
      "cell_type": "code",
      "execution_count": null,
      "id": "bf90e463",
      "metadata": {
        "colab": {
          "base_uri": "https://localhost:8080/"
        },
        "id": "bf90e463",
        "outputId": "c3e2fb44-36bc-4cb9-99fc-d68a98c14392"
      },
      "outputs": [
        {
          "output_type": "stream",
          "name": "stdout",
          "text": [
            "name\n"
          ]
        }
      ],
      "source": [
        "t=('name',10,'36',129.39)\n",
        "print(t[0])"
      ]
    },
    {
      "cell_type": "markdown",
      "id": "26563419",
      "metadata": {
        "id": "26563419"
      },
      "source": [
        "    Access the last element of a tuple."
      ]
    },
    {
      "cell_type": "code",
      "execution_count": null,
      "id": "54b98b3a",
      "metadata": {
        "colab": {
          "base_uri": "https://localhost:8080/"
        },
        "id": "54b98b3a",
        "outputId": "e96cb8bd-51cf-487f-d9a3-99e0e0682d6b"
      },
      "outputs": [
        {
          "output_type": "stream",
          "name": "stdout",
          "text": [
            "129.39\n"
          ]
        }
      ],
      "source": [
        "t=('name',10,'36',129.39)\n",
        "print(t[-1])"
      ]
    },
    {
      "cell_type": "markdown",
      "id": "15d49e96",
      "metadata": {
        "id": "15d49e96"
      },
      "source": [
        "Access the second and third elements of a tuple.\n"
      ]
    },
    {
      "cell_type": "code",
      "execution_count": null,
      "id": "1b8f2886",
      "metadata": {
        "colab": {
          "base_uri": "https://localhost:8080/"
        },
        "id": "1b8f2886",
        "outputId": "ca34940d-0cb8-40b9-aac4-7ac9f3f184ac"
      },
      "outputs": [
        {
          "output_type": "stream",
          "name": "stdout",
          "text": [
            "(10, '36')\n"
          ]
        }
      ],
      "source": [
        "t=('name',10,'36',129.39)\n",
        "print(t[1:3])"
      ]
    },
    {
      "cell_type": "markdown",
      "id": "069741b2",
      "metadata": {
        "id": "069741b2"
      },
      "source": [
        "\n",
        "    Slice a tuple to extract the first three elements.\n",
        "    "
      ]
    },
    {
      "cell_type": "code",
      "execution_count": null,
      "id": "ba3f17f2",
      "metadata": {
        "colab": {
          "base_uri": "https://localhost:8080/"
        },
        "id": "ba3f17f2",
        "outputId": "9b18aeac-575c-4d8c-f852-31965f42b06a"
      },
      "outputs": [
        {
          "output_type": "stream",
          "name": "stdout",
          "text": [
            "('name', 10, '36')\n"
          ]
        }
      ],
      "source": [
        "t=('name',10,'36',129.39)\n",
        "print(t[0:3])"
      ]
    },
    {
      "cell_type": "markdown",
      "id": "f5f8af36",
      "metadata": {
        "id": "f5f8af36"
      },
      "source": [
        "Slice a tuple to extract the last three elements.\n"
      ]
    },
    {
      "cell_type": "code",
      "execution_count": null,
      "id": "72b61419",
      "metadata": {
        "colab": {
          "base_uri": "https://localhost:8080/"
        },
        "id": "72b61419",
        "outputId": "cb72c0d6-1443-4b58-f579-e4d7fcb38162"
      },
      "outputs": [
        {
          "output_type": "stream",
          "name": "stdout",
          "text": [
            "(129.39, 'address', 93)\n"
          ]
        }
      ],
      "source": [
        "t=('name',10,'36',129.39,'address',93)\n",
        "print(t[-3:])"
      ]
    },
    {
      "cell_type": "markdown",
      "id": "fbf3a8e6",
      "metadata": {
        "id": "fbf3a8e6"
      },
      "source": [
        "   Slice a tuple to get every second element.\n"
      ]
    },
    {
      "cell_type": "code",
      "execution_count": null,
      "id": "2f28222b",
      "metadata": {
        "colab": {
          "base_uri": "https://localhost:8080/"
        },
        "id": "2f28222b",
        "outputId": "6122d380-7d4c-4dd3-963a-25b1fc8af783"
      },
      "outputs": [
        {
          "output_type": "stream",
          "name": "stdout",
          "text": [
            "('name', '36', 'address')\n"
          ]
        }
      ],
      "source": [
        "t=('name',10,'36',129.39,'address',93)\n",
        "print(t[0::2])"
      ]
    },
    {
      "cell_type": "markdown",
      "id": "972a3d7e",
      "metadata": {
        "id": "972a3d7e"
      },
      "source": [
        "    Reverse a tuple using slicing."
      ]
    },
    {
      "cell_type": "code",
      "execution_count": null,
      "id": "a0c026b2",
      "metadata": {
        "colab": {
          "base_uri": "https://localhost:8080/"
        },
        "id": "a0c026b2",
        "outputId": "981e8b04-e407-4181-f755-86fb1c1ced2d"
      },
      "outputs": [
        {
          "output_type": "stream",
          "name": "stdout",
          "text": [
            "(93, 'address', 129.39, '36', 10, 'name')\n"
          ]
        }
      ],
      "source": [
        "t=('name',10,'36',129.39,'address',93)\n",
        "print(t[::-1])"
      ]
    },
    {
      "cell_type": "markdown",
      "id": "ff819f8c",
      "metadata": {
        "id": "ff819f8c"
      },
      "source": [
        "Create two tuples and concatenate them.\n",
        "\n"
      ]
    },
    {
      "cell_type": "code",
      "execution_count": null,
      "id": "34bb1253",
      "metadata": {
        "colab": {
          "base_uri": "https://localhost:8080/"
        },
        "id": "34bb1253",
        "outputId": "7b15cc5e-9f2b-4ff6-d066-d18e973cda0e"
      },
      "outputs": [
        {
          "output_type": "stream",
          "name": "stdout",
          "text": [
            "('name', 10, '36', 129.39, 'address', 93, 'city', 28, '345', 'phone', 85.84)\n"
          ]
        }
      ],
      "source": [
        "t1=('name',10,'36',129.39,'address',93)\n",
        "t2=('city',28,'345','phone',85.84)\n",
        "print(t1+t2)"
      ]
    },
    {
      "cell_type": "markdown",
      "id": "6f81c447",
      "metadata": {
        "id": "6f81c447"
      },
      "source": [
        "    Repeat a tuple multiple times using the repetition operator."
      ]
    },
    {
      "cell_type": "code",
      "execution_count": null,
      "id": "a7993e54",
      "metadata": {
        "colab": {
          "base_uri": "https://localhost:8080/"
        },
        "id": "a7993e54",
        "outputId": "64523927-a3db-425c-a00d-7673a455fe29"
      },
      "outputs": [
        {
          "output_type": "stream",
          "name": "stdout",
          "text": [
            "('address', 28, '10.98', 'address', 28, '10.98', 'address', 28, '10.98')\n"
          ]
        }
      ],
      "source": [
        "t=('address',28,'10.98')\n",
        "rep=t*3\n",
        "print(rep)"
      ]
    },
    {
      "cell_type": "markdown",
      "id": "e39bdb1d",
      "metadata": {
        "id": "e39bdb1d"
      },
      "source": [
        "Find the index of a specific element in a tuple using the index() method."
      ]
    },
    {
      "cell_type": "code",
      "execution_count": null,
      "id": "d0887521",
      "metadata": {
        "colab": {
          "base_uri": "https://localhost:8080/"
        },
        "id": "d0887521",
        "outputId": "dbac3561-ccee-4a66-faf8-b6c5a7d41573"
      },
      "outputs": [
        {
          "output_type": "execute_result",
          "data": {
            "text/plain": [
              "5"
            ]
          },
          "metadata": {},
          "execution_count": 25
        }
      ],
      "source": [
        "t1=('name',10,'36',129.39,'name','address',93)\n",
        "t1.index('address')"
      ]
    },
    {
      "cell_type": "markdown",
      "id": "fc66ca7e",
      "metadata": {
        "id": "fc66ca7e"
      },
      "source": [
        "    Count the number of occurrences of a specific element in a tuple using the count() method."
      ]
    },
    {
      "cell_type": "code",
      "execution_count": null,
      "id": "d9bf2831",
      "metadata": {
        "colab": {
          "base_uri": "https://localhost:8080/"
        },
        "id": "d9bf2831",
        "outputId": "5636b1ba-77d1-4982-9179-cdb2a0015e32"
      },
      "outputs": [
        {
          "output_type": "execute_result",
          "data": {
            "text/plain": [
              "2"
            ]
          },
          "metadata": {},
          "execution_count": 26
        }
      ],
      "source": [
        "t1=('name',10,'36',129.39,'name','address',93)\n",
        "t1.count('name')"
      ]
    },
    {
      "cell_type": "markdown",
      "id": "9bdef970",
      "metadata": {
        "id": "9bdef970"
      },
      "source": [
        "Sort a tuple of numbers in ascending order.\n",
        "\n"
      ]
    },
    {
      "cell_type": "code",
      "execution_count": null,
      "id": "326fca51",
      "metadata": {
        "colab": {
          "base_uri": "https://localhost:8080/"
        },
        "id": "326fca51",
        "outputId": "3f0adc35-0d9a-400e-fd76-2b1b1a30eb2c"
      },
      "outputs": [
        {
          "output_type": "execute_result",
          "data": {
            "text/plain": [
              "[4, 7, 14, 70, 72, 83, 95, 413, 848]"
            ]
          },
          "metadata": {},
          "execution_count": 28
        }
      ],
      "source": [
        "t1=(7,95,72,70,14,413,848,4,83)\n",
        "sorted(t1)"
      ]
    },
    {
      "cell_type": "markdown",
      "id": "2b1d9be5",
      "metadata": {
        "id": "2b1d9be5"
      },
      "source": [
        "    Sort a tuple of strings in alphabetical order."
      ]
    },
    {
      "cell_type": "code",
      "execution_count": null,
      "id": "5b0a511f",
      "metadata": {
        "colab": {
          "base_uri": "https://localhost:8080/"
        },
        "id": "5b0a511f",
        "outputId": "52c99341-5154-413b-e30d-0d5bc165f589"
      },
      "outputs": [
        {
          "output_type": "execute_result",
          "data": {
            "text/plain": [
              "['apple', 'kiwi', 'mango', 'orange']"
            ]
          },
          "metadata": {},
          "execution_count": 3
        }
      ],
      "source": [
        "t1=('apple','orange','kiwi','mango')\n",
        "sorted(t1)"
      ]
    },
    {
      "cell_type": "markdown",
      "id": "0393ae63",
      "metadata": {
        "id": "0393ae63"
      },
      "source": [
        "Sort a tuple of tuples based on the second element of each inner tuple."
      ]
    },
    {
      "cell_type": "code",
      "execution_count": null,
      "id": "5b0d33fd",
      "metadata": {
        "colab": {
          "base_uri": "https://localhost:8080/"
        },
        "id": "5b0d33fd",
        "outputId": "28795454-e6cf-4993-a037-03c9d9bff1fc"
      },
      "outputs": [
        {
          "output_type": "execute_result",
          "data": {
            "text/plain": [
              "[(69, 46), (18, 58), (83, 65), (90, 74)]"
            ]
          },
          "metadata": {},
          "execution_count": 55
        }
      ],
      "source": [
        "t1=((18,58),(90,74),(83,65),(69,46))\n",
        "sorted(t1,key=lambda x:x[1])"
      ]
    },
    {
      "cell_type": "markdown",
      "id": "65b8f449",
      "metadata": {
        "id": "65b8f449"
      },
      "source": [
        "Compare two tuples to see if they are equal in both value and identity."
      ]
    },
    {
      "cell_type": "code",
      "execution_count": null,
      "id": "e09a6135",
      "metadata": {
        "colab": {
          "base_uri": "https://localhost:8080/"
        },
        "id": "e09a6135",
        "outputId": "1d9abc21-c8ab-4ba1-d785-066204fd0de2"
      },
      "outputs": [
        {
          "output_type": "stream",
          "name": "stdout",
          "text": [
            "False\n",
            "True\n"
          ]
        }
      ],
      "source": [
        "t1=(60,'name',12.4)\n",
        "t2=(60,'name',12.4)\n",
        "print(t1 is t2) #checking identity\n",
        "print(t1==t2) #checking value"
      ]
    },
    {
      "cell_type": "markdown",
      "id": "0810cc18",
      "metadata": {
        "id": "0810cc18"
      },
      "source": [
        "Create a shallow copy of a tuple and observe the effects of modifying one of the tuples.\n",
        "\n"
      ]
    },
    {
      "cell_type": "code",
      "execution_count": null,
      "id": "426bacd6",
      "metadata": {
        "colab": {
          "base_uri": "https://localhost:8080/"
        },
        "id": "426bacd6",
        "outputId": "c9d48c27-ecb3-440c-9bf6-eb5f24190c9f"
      },
      "outputs": [
        {
          "output_type": "stream",
          "name": "stdout",
          "text": [
            "(60, 19.45, '45', 'address')\n",
            "(60, 19.45, '45', 'address', 'name')\n"
          ]
        }
      ],
      "source": [
        "#as you cannot modify a tuple (tuples being immutable) this will create a new tuple in memory hence shallow copy won't work.\n",
        "t1=(60,19.45,'45','address')\n",
        "shallow_copy=t1[:]\n",
        "t1=(60,19.45,'45','address','name')\n",
        "print(shallow_copy)\n",
        "print(t1)"
      ]
    },
    {
      "cell_type": "markdown",
      "id": "f14455c5",
      "metadata": {
        "id": "f14455c5"
      },
      "source": [
        "    Create a deep copy of a nested tuple and observe the effects of modifying one of the tuples.\n"
      ]
    },
    {
      "cell_type": "code",
      "execution_count": null,
      "id": "4564c764",
      "metadata": {
        "colab": {
          "base_uri": "https://localhost:8080/"
        },
        "id": "4564c764",
        "outputId": "a1c27505-2c67-417c-b9fd-6e0be06e1e39"
      },
      "outputs": [
        {
          "output_type": "stream",
          "name": "stdout",
          "text": [
            "((1, 2), (3, 4), (5, 6), (7, 8))\n",
            "((1, 2), (3, 4), (5, 6))\n"
          ]
        }
      ],
      "source": [
        "#as you cannot modify a tuple (tuples being immutable) this will create a new tuple in memory hence deep copy won't work.\n",
        "import copy\n",
        "tuple1=((1, 2), (3, 4), (5, 6))\n",
        "deep_copy=copy.deepcopy(tuple1)\n",
        "tuple1=((1, 2), (3, 4), (5, 6),(7,8))\n",
        "print(tuple1)\n",
        "print(deep_copy)"
      ]
    },
    {
      "cell_type": "markdown",
      "id": "b01879a0",
      "metadata": {
        "id": "b01879a0"
      },
      "source": [
        "    Pickle a tuple and save it to a file.\n"
      ]
    },
    {
      "cell_type": "code",
      "execution_count": null,
      "id": "55ddfbd4",
      "metadata": {
        "id": "55ddfbd4"
      },
      "outputs": [],
      "source": [
        "import pickle\n",
        "tuple1=('learning', 'is', 'fun', 'with', 'Arif')\n",
        "with open('tuple1.pickle', 'wb') as f:\n",
        "    pickle.dump(tuple1, f)"
      ]
    },
    {
      "cell_type": "markdown",
      "id": "6874f46a",
      "metadata": {
        "id": "6874f46a"
      },
      "source": [
        "    Unpickle a tuple from a file and display its content."
      ]
    },
    {
      "cell_type": "code",
      "execution_count": 1,
      "id": "02f8549f",
      "metadata": {
        "colab": {
          "base_uri": "https://localhost:8080/",
          "height": 200
        },
        "id": "02f8549f",
        "outputId": "49ca7c01-fdfb-4b8a-fb64-f5c3af0a2ca5"
      },
      "outputs": [
        {
          "output_type": "error",
          "ename": "FileNotFoundError",
          "evalue": "[Errno 2] No such file or directory: 'tuple1.pickle'",
          "traceback": [
            "\u001b[0;31m---------------------------------------------------------------------------\u001b[0m",
            "\u001b[0;31mFileNotFoundError\u001b[0m                         Traceback (most recent call last)",
            "\u001b[0;32m<ipython-input-1-3fc651d02875>\u001b[0m in \u001b[0;36m<cell line: 2>\u001b[0;34m()\u001b[0m\n\u001b[1;32m      1\u001b[0m \u001b[0;32mimport\u001b[0m \u001b[0mpickle\u001b[0m\u001b[0;34m\u001b[0m\u001b[0;34m\u001b[0m\u001b[0m\n\u001b[0;32m----> 2\u001b[0;31m \u001b[0;32mwith\u001b[0m \u001b[0mopen\u001b[0m\u001b[0;34m(\u001b[0m\u001b[0;34m'tuple1.pickle'\u001b[0m\u001b[0;34m,\u001b[0m \u001b[0;34m'rb'\u001b[0m\u001b[0;34m)\u001b[0m \u001b[0;32mas\u001b[0m \u001b[0mf\u001b[0m\u001b[0;34m:\u001b[0m\u001b[0;34m\u001b[0m\u001b[0;34m\u001b[0m\u001b[0m\n\u001b[0m\u001b[1;32m      3\u001b[0m     \u001b[0mdata\u001b[0m \u001b[0;34m=\u001b[0m \u001b[0mpickle\u001b[0m\u001b[0;34m.\u001b[0m\u001b[0mload\u001b[0m\u001b[0;34m(\u001b[0m\u001b[0mf\u001b[0m\u001b[0;34m)\u001b[0m\u001b[0;34m\u001b[0m\u001b[0;34m\u001b[0m\u001b[0m\n\u001b[1;32m      4\u001b[0m \u001b[0mprint\u001b[0m\u001b[0;34m(\u001b[0m\u001b[0mdata\u001b[0m\u001b[0;34m)\u001b[0m\u001b[0;34m\u001b[0m\u001b[0;34m\u001b[0m\u001b[0m\n",
            "\u001b[0;31mFileNotFoundError\u001b[0m: [Errno 2] No such file or directory: 'tuple1.pickle'"
          ]
        }
      ],
      "source": [
        "import pickle\n",
        "with open('tuple1.pickle', 'rb') as f:\n",
        "    data = pickle.load(f)\n",
        "print(data)"
      ]
    },
    {
      "cell_type": "code",
      "source": [
        "import copy\n",
        "\n",
        "# Original tuple\n",
        "original_tuple = (1, 2, [3, 4])\n",
        "\n",
        "# Shallow copy\n",
        "shallow_copied_tuple = copy.copy(original_tuple)\n",
        "\n",
        "# Deep copy\n",
        "deep_copied_tuple = copy.deepcopy(original_tuple)\n",
        "\n",
        "# Modify the original tuple to demonstrate the difference\n",
        "original_tuple[2][0] = 99\n",
        "\n",
        "print(\"Original Tuple:\", original_tuple)\n",
        "print(\"Shallow Copied Tuple:\", shallow_copied_tuple)\n",
        "print(\"Deep Copied Tuple:\", deep_copied_tuple)\n"
      ],
      "metadata": {
        "colab": {
          "base_uri": "https://localhost:8080/"
        },
        "id": "Zck-yseOWTWG",
        "outputId": "ed066b18-40a9-46fa-d69c-2b353ba76a04"
      },
      "id": "Zck-yseOWTWG",
      "execution_count": null,
      "outputs": [
        {
          "output_type": "stream",
          "name": "stdout",
          "text": [
            "Original Tuple: (1, 2, [99, 4])\n",
            "Shallow Copied Tuple: (1, 2, [99, 4])\n",
            "Deep Copied Tuple: (1, 2, [3, 4])\n"
          ]
        }
      ]
    },
    {
      "cell_type": "code",
      "source": [
        "import copy\n",
        "\n",
        "# Original tuple\n",
        "original_tuple = (1, 2, 3, 4, 5)\n",
        "\n",
        "# Shallow copy\n",
        "shallow_copied_tuple = copy.copy(original_tuple)\n",
        "\n",
        "# Deep copy\n",
        "deep_copied_tuple = copy.deepcopy(original_tuple)\n",
        "\n",
        "# Modify the original tuple\n",
        "original_tuple = original_tuple + (6,)\n",
        "\n",
        "print(\"Original Tuple:\", original_tuple)\n",
        "print(\"Shallow Copied Tuple:\", shallow_copied_tuple)\n",
        "print(\"Deep Copied Tuple:\", deep_copied_tuple)\n"
      ],
      "metadata": {
        "colab": {
          "base_uri": "https://localhost:8080/"
        },
        "id": "1F9ysSBCWlWG",
        "outputId": "2fcdbbc4-27d0-47ab-9174-7936feba84a8"
      },
      "id": "1F9ysSBCWlWG",
      "execution_count": null,
      "outputs": [
        {
          "output_type": "stream",
          "name": "stdout",
          "text": [
            "Original Tuple: (1, 2, 3, 4, 5, 6)\n",
            "Shallow Copied Tuple: (1, 2, 3, 4, 5)\n",
            "Deep Copied Tuple: (1, 2, 3, 4, 5)\n"
          ]
        }
      ]
    }
  ],
  "metadata": {
    "kernelspec": {
      "display_name": "Python 3 (ipykernel)",
      "language": "python",
      "name": "python3"
    },
    "language_info": {
      "codemirror_mode": {
        "name": "ipython",
        "version": 3
      },
      "file_extension": ".py",
      "mimetype": "text/x-python",
      "name": "python",
      "nbconvert_exporter": "python",
      "pygments_lexer": "ipython3",
      "version": "3.9.12"
    },
    "colab": {
      "provenance": [],
      "include_colab_link": true
    }
  },
  "nbformat": 4,
  "nbformat_minor": 5
}